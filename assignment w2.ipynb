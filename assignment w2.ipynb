{
 "cells": [
  {
   "cell_type": "code",
   "execution_count": null,
   "id": "9251cc65-92fe-4774-95fe-e973442f6e9e",
   "metadata": {},
   "outputs": [],
   "source": [
    "we can simple comment in any line of a code using '#'.\n",
    "There are two type of comments on python such as single line comment describe as '#' and multiple line comment describe as '\"\"\"'."
   ]
  },
  {
   "cell_type": "code",
   "execution_count": null,
   "id": "b937e973-1c39-49ab-9066-5bee75379a81",
   "metadata": {},
   "outputs": [],
   "source": []
  },
  {
   "cell_type": "code",
   "execution_count": null,
   "id": "b92fbf31-03e7-4614-8821-5def8f58e315",
   "metadata": {},
   "outputs": [],
   "source": []
  },
  {
   "cell_type": "code",
   "execution_count": null,
   "id": "eec48176-3c9a-40b2-a965-2d87e22fc678",
   "metadata": {},
   "outputs": [],
   "source": [
    "Q2."
   ]
  },
  {
   "cell_type": "code",
   "execution_count": null,
   "id": "c82a063e-f821-4141-9b23-6094ca627918",
   "metadata": {},
   "outputs": [],
   "source": [
    "Variables hold a specific value, such as numbers, strings, or other data types.\n",
    "example such as:\n",
    "    a = 234  # a store int variable in it. \n",
    "    b = \"jayant\" # b store char variable in it.\n",
    "    c = True  # c store boolean value in it.\n",
    "    d = 345.99  # d store float variable in it."
   ]
  },
  {
   "cell_type": "code",
   "execution_count": null,
   "id": "208ad80e-691c-4040-8561-706faf3f97e8",
   "metadata": {},
   "outputs": [],
   "source": []
  },
  {
   "cell_type": "code",
   "execution_count": null,
   "id": "988339d6-2886-4f21-8c2d-539bce47fdad",
   "metadata": {},
   "outputs": [],
   "source": []
  },
  {
   "cell_type": "code",
   "execution_count": null,
   "id": "494cd03a-892e-4e27-908c-cb325ec7ccd7",
   "metadata": {},
   "outputs": [],
   "source": [
    "Q3."
   ]
  },
  {
   "cell_type": "code",
   "execution_count": 5,
   "id": "e25a9c9f-57d3-4f2b-87a0-ca88cd78160b",
   "metadata": {},
   "outputs": [
    {
     "name": "stdout",
     "output_type": "stream",
     "text": [
      "13.14\n"
     ]
    }
   ],
   "source": [
    "x = 10      # integer\n",
    "y = 3.14    # float\n",
    "\n",
    "z = x + y   # x is implicitly converted to float\n",
    "\n",
    "print(z)    # Output: 13.14"
   ]
  },
  {
   "cell_type": "code",
   "execution_count": 6,
   "id": "3a97f03f-5133-4892-883a-4e1088281046",
   "metadata": {},
   "outputs": [
    {
     "data": {
      "text/plain": [
       "float"
      ]
     },
     "execution_count": 6,
     "metadata": {},
     "output_type": "execute_result"
    }
   ],
   "source": [
    "type(z)"
   ]
  },
  {
   "cell_type": "code",
   "execution_count": null,
   "id": "9ad0b59e-0e0c-4f37-ac49-33d81220b2a0",
   "metadata": {},
   "outputs": [],
   "source": []
  },
  {
   "cell_type": "code",
   "execution_count": null,
   "id": "ec75116e-26fb-4398-b729-752974487ff6",
   "metadata": {},
   "outputs": [],
   "source": []
  },
  {
   "cell_type": "code",
   "execution_count": null,
   "id": "b61a2080-a18a-447b-8458-f40681166824",
   "metadata": {},
   "outputs": [],
   "source": [
    "Q4."
   ]
  },
  {
   "cell_type": "code",
   "execution_count": null,
   "id": "ed09ff3c-9817-4041-b2bb-70134b6c30ee",
   "metadata": {},
   "outputs": [],
   "source": [
    "Open a text editor and create a new file. \n",
    "Write your Python code in the file, using the text editor.\n",
    "Save the file with a .py extension. In this case, save it as script.py.\n",
    "Open a command prompt or terminal window.\n",
    "Navigate to the directory where you saved your Python script using the cd command.\n",
    "Once you're in the correct directory, you can execute the Python script by running the following command.\n",
    "Press Enter to run the command, and you should see the output of your Python script:\n"
   ]
  },
  {
   "cell_type": "code",
   "execution_count": null,
   "id": "46b3087f-22c0-45aa-88c6-440ac62d0088",
   "metadata": {},
   "outputs": [],
   "source": []
  },
  {
   "cell_type": "code",
   "execution_count": null,
   "id": "8eac65a2-a172-48df-a953-4301800d1c34",
   "metadata": {},
   "outputs": [],
   "source": []
  },
  {
   "cell_type": "code",
   "execution_count": null,
   "id": "730a9e90-b80f-4e63-928c-78a3bcdaeb67",
   "metadata": {},
   "outputs": [],
   "source": [
    "Q5."
   ]
  },
  {
   "cell_type": "code",
   "execution_count": 7,
   "id": "786fd69c-fe9b-42a1-8d51-9d09c9aecad4",
   "metadata": {},
   "outputs": [],
   "source": [
    "my_list = [1,2,3,4,5]"
   ]
  },
  {
   "cell_type": "code",
   "execution_count": 9,
   "id": "8496e540-2611-470f-9ea8-4e7b4e29e576",
   "metadata": {},
   "outputs": [
    {
     "data": {
      "text/plain": [
       "[2, 3]"
      ]
     },
     "execution_count": 9,
     "metadata": {},
     "output_type": "execute_result"
    }
   ],
   "source": [
    "my_list[1:3]"
   ]
  },
  {
   "cell_type": "code",
   "execution_count": null,
   "id": "4c3fe17f-90b6-419d-b214-d17d713321bb",
   "metadata": {},
   "outputs": [],
   "source": []
  },
  {
   "cell_type": "code",
   "execution_count": null,
   "id": "dc634f4d-8408-4334-893b-f419292503a3",
   "metadata": {},
   "outputs": [],
   "source": []
  },
  {
   "cell_type": "code",
   "execution_count": null,
   "id": "572bb89e-31b9-455c-92ff-ec180037424d",
   "metadata": {},
   "outputs": [],
   "source": [
    "Q6."
   ]
  },
  {
   "cell_type": "code",
   "execution_count": 10,
   "id": "1061a50e-eb78-4b77-8412-2767b5332ce3",
   "metadata": {},
   "outputs": [],
   "source": [
    "d = 3+7j"
   ]
  },
  {
   "cell_type": "code",
   "execution_count": 16,
   "id": "5fa36e4a-3162-40d9-be59-17af8053aa8d",
   "metadata": {},
   "outputs": [
    {
     "data": {
      "text/plain": [
       "3.0"
      ]
     },
     "execution_count": 16,
     "metadata": {},
     "output_type": "execute_result"
    }
   ],
   "source": [
    "d.real"
   ]
  },
  {
   "cell_type": "code",
   "execution_count": 18,
   "id": "3351d407-1ea7-4a11-89de-ecfc8c3e3e32",
   "metadata": {},
   "outputs": [
    {
     "data": {
      "text/plain": [
       "7.0"
      ]
     },
     "execution_count": 18,
     "metadata": {},
     "output_type": "execute_result"
    }
   ],
   "source": [
    "d.imag"
   ]
  },
  {
   "cell_type": "code",
   "execution_count": null,
   "id": "5e88a7a6-4ad7-4802-8959-e616ef6a7957",
   "metadata": {},
   "outputs": [],
   "source": []
  },
  {
   "cell_type": "code",
   "execution_count": null,
   "id": "b31028ce-73da-493a-9d13-d83ac677a282",
   "metadata": {},
   "outputs": [],
   "source": []
  },
  {
   "cell_type": "code",
   "execution_count": null,
   "id": "775c4ef4-11b3-4a08-8ea5-59cfa94e5768",
   "metadata": {},
   "outputs": [],
   "source": [
    "Q7."
   ]
  },
  {
   "cell_type": "code",
   "execution_count": 19,
   "id": "bb19eee8-4333-4381-9f04-d876b1cac008",
   "metadata": {},
   "outputs": [],
   "source": [
    "age = 25"
   ]
  },
  {
   "cell_type": "code",
   "execution_count": 20,
   "id": "4674d274-c47d-4fa0-ad2b-050547d450f0",
   "metadata": {},
   "outputs": [
    {
     "data": {
      "text/plain": [
       "int"
      ]
     },
     "execution_count": 20,
     "metadata": {},
     "output_type": "execute_result"
    }
   ],
   "source": [
    "type(age)"
   ]
  },
  {
   "cell_type": "code",
   "execution_count": null,
   "id": "257d2399-b4f3-4416-9f07-bb055e5a7d07",
   "metadata": {},
   "outputs": [],
   "source": []
  },
  {
   "cell_type": "code",
   "execution_count": null,
   "id": "4a669973-0980-4bea-ba81-03b63d8cc652",
   "metadata": {},
   "outputs": [],
   "source": []
  },
  {
   "cell_type": "code",
   "execution_count": null,
   "id": "6ab55da2-9efa-4c98-b635-2153728a4d06",
   "metadata": {},
   "outputs": [],
   "source": [
    "Q8."
   ]
  },
  {
   "cell_type": "code",
   "execution_count": 21,
   "id": "c4953b4f-8ade-42d9-8a6f-505a70544722",
   "metadata": {},
   "outputs": [],
   "source": [
    "price = 9.99"
   ]
  },
  {
   "cell_type": "code",
   "execution_count": 22,
   "id": "fbff62da-4499-4beb-b768-cafc22d8c116",
   "metadata": {},
   "outputs": [
    {
     "data": {
      "text/plain": [
       "float"
      ]
     },
     "execution_count": 22,
     "metadata": {},
     "output_type": "execute_result"
    }
   ],
   "source": [
    "type(price)"
   ]
  },
  {
   "cell_type": "code",
   "execution_count": null,
   "id": "0760166b-46e8-4c84-baa8-c5d99f603331",
   "metadata": {},
   "outputs": [],
   "source": []
  },
  {
   "cell_type": "code",
   "execution_count": null,
   "id": "d52ab429-a9f1-423c-aa00-96bf319e131c",
   "metadata": {},
   "outputs": [],
   "source": []
  },
  {
   "cell_type": "code",
   "execution_count": null,
   "id": "d429a163-3b37-43c1-ab9e-0fc36b62eb33",
   "metadata": {},
   "outputs": [],
   "source": [
    "Q9."
   ]
  },
  {
   "cell_type": "code",
   "execution_count": 23,
   "id": "52957c31-2683-4bcb-a9a4-e59ee2331713",
   "metadata": {},
   "outputs": [],
   "source": [
    "name = \"Jayant Pramod Nagpure\""
   ]
  },
  {
   "cell_type": "code",
   "execution_count": 34,
   "id": "33632f0d-d578-4ba0-9241-5e2a68e37647",
   "metadata": {},
   "outputs": [
    {
     "data": {
      "text/plain": [
       "'Jayant Pramod Nagpure'"
      ]
     },
     "execution_count": 34,
     "metadata": {},
     "output_type": "execute_result"
    }
   ],
   "source": [
    "name"
   ]
  },
  {
   "cell_type": "code",
   "execution_count": null,
   "id": "65ed47ac-4488-4edc-b649-3cd253401ef0",
   "metadata": {},
   "outputs": [],
   "source": []
  },
  {
   "cell_type": "code",
   "execution_count": null,
   "id": "7a786399-18df-4ecc-a5dd-71b83b39cda5",
   "metadata": {},
   "outputs": [],
   "source": []
  },
  {
   "cell_type": "code",
   "execution_count": null,
   "id": "a6771364-92ea-4945-b5b7-88fa8a6915e1",
   "metadata": {},
   "outputs": [],
   "source": [
    "Q10."
   ]
  },
  {
   "cell_type": "code",
   "execution_count": 30,
   "id": "a806d44d-5eb4-4d59-bf36-92e4a348be88",
   "metadata": {},
   "outputs": [],
   "source": [
    "e = \"Hello World!\""
   ]
  },
  {
   "cell_type": "code",
   "execution_count": 33,
   "id": "9bec2f72-d7d9-443d-8a63-dac98d77803f",
   "metadata": {},
   "outputs": [
    {
     "data": {
      "text/plain": [
       "'World'"
      ]
     },
     "execution_count": 33,
     "metadata": {},
     "output_type": "execute_result"
    }
   ],
   "source": [
    "e[6:11]"
   ]
  },
  {
   "cell_type": "code",
   "execution_count": null,
   "id": "bc7011b3-c5b3-4b8b-90a4-31bcb3164a61",
   "metadata": {},
   "outputs": [],
   "source": []
  },
  {
   "cell_type": "code",
   "execution_count": null,
   "id": "19b51a04-0006-444e-9cb5-0cca361403ae",
   "metadata": {},
   "outputs": [],
   "source": []
  },
  {
   "cell_type": "code",
   "execution_count": null,
   "id": "4e974bc7-5797-4da3-8bce-a012390ef162",
   "metadata": {},
   "outputs": [],
   "source": [
    "Q11."
   ]
  },
  {
   "cell_type": "code",
   "execution_count": 41,
   "id": "e3adb9ca-ec56-40d5-950c-a6a8819742c9",
   "metadata": {},
   "outputs": [],
   "source": [
    "is_student = True"
   ]
  },
  {
   "cell_type": "code",
   "execution_count": 42,
   "id": "52ec8564-7b3c-4e26-a92e-d19d98e8046b",
   "metadata": {},
   "outputs": [
    {
     "data": {
      "text/plain": [
       "True"
      ]
     },
     "execution_count": 42,
     "metadata": {},
     "output_type": "execute_result"
    }
   ],
   "source": [
    "is_student"
   ]
  },
  {
   "cell_type": "code",
   "execution_count": 43,
   "id": "178ece08-af3d-476c-b800-ebb76e1f3ac9",
   "metadata": {},
   "outputs": [],
   "source": [
    "is_student = False"
   ]
  },
  {
   "cell_type": "code",
   "execution_count": 45,
   "id": "101f1412-4e0b-4ab4-ba9d-8f807aa57965",
   "metadata": {},
   "outputs": [
    {
     "data": {
      "text/plain": [
       "False"
      ]
     },
     "execution_count": 45,
     "metadata": {},
     "output_type": "execute_result"
    }
   ],
   "source": [
    "is_student"
   ]
  },
  {
   "cell_type": "code",
   "execution_count": null,
   "id": "5ac04afd-c64f-4281-ae5c-97929f26b76a",
   "metadata": {},
   "outputs": [],
   "source": []
  }
 ],
 "metadata": {
  "kernelspec": {
   "display_name": "Python 3 (ipykernel)",
   "language": "python",
   "name": "python3"
  },
  "language_info": {
   "codemirror_mode": {
    "name": "ipython",
    "version": 3
   },
   "file_extension": ".py",
   "mimetype": "text/x-python",
   "name": "python",
   "nbconvert_exporter": "python",
   "pygments_lexer": "ipython3",
   "version": "3.10.8"
  }
 },
 "nbformat": 4,
 "nbformat_minor": 5
}
